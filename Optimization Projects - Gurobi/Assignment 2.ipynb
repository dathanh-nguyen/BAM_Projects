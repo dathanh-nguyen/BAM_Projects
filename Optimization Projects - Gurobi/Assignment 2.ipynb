{
 "cells": [
  {
   "cell_type": "code",
   "execution_count": 141,
   "id": "6c6dd31a",
   "metadata": {},
   "outputs": [],
   "source": [
    "import gurobipy as gp\n",
    "import numpy as np\n",
    "import seaborn as sn\n",
    "import pandas as pd"
   ]
  },
  {
   "cell_type": "markdown",
   "id": "2b88c8c0",
   "metadata": {},
   "source": [
    "# Question 1"
   ]
  },
  {
   "cell_type": "code",
   "execution_count": 224,
   "id": "24d95787",
   "metadata": {},
   "outputs": [
    {
     "name": "stdout",
     "output_type": "stream",
     "text": [
      "Gurobi Optimizer version 9.5.2 build v9.5.2rc0 (win64)\n",
      "Thread count: 4 physical cores, 8 logical processors, using up to 8 threads\n",
      "Optimize a model with 9 rows, 20 columns and 40 nonzeros\n",
      "Model fingerprint: 0x0c35683c\n",
      "Variable types: 0 continuous, 20 integer (20 binary)\n",
      "Coefficient statistics:\n",
      "  Matrix range     [1e+00, 1e+00]\n",
      "  Objective range  [3e+01, 4e+01]\n",
      "  Bounds range     [1e+00, 1e+00]\n",
      "  RHS range        [1e+00, 1e+00]\n",
      "Found heuristic solution: objective 136.3000000\n",
      "Presolve time: 0.00s\n",
      "Presolved: 9 rows, 20 columns, 40 nonzeros\n",
      "Variable types: 0 continuous, 20 integer (20 binary)\n",
      "Found heuristic solution: objective 135.8000000\n",
      "\n",
      "Root relaxation: objective 1.287000e+02, 8 iterations, 0.00 seconds (0.00 work units)\n",
      "\n",
      "    Nodes    |    Current Node    |     Objective Bounds      |     Work\n",
      " Expl Unexpl |  Obj  Depth IntInf | Incumbent    BestBd   Gap | It/Node Time\n",
      "\n",
      "*    0     0               0     128.7000000  128.70000  0.00%     -    0s\n",
      "\n",
      "Explored 1 nodes (8 simplex iterations) in 0.02 seconds (0.00 work units)\n",
      "Thread count was 8 (of 8 available processors)\n",
      "\n",
      "Solution count 3: 128.7 135.8 136.3 \n",
      "\n",
      "Optimal solution found (tolerance 1.00e-04)\n",
      "Best objective 1.287000000000e+02, best bound 1.287000000000e+02, gap 0.0000%\n",
      "\n",
      "    Variable            X \n",
      "-------------------------\n",
      " relay[M,FR]            1 \n",
      " relay[L,BR]            1 \n",
      " relay[A,BA]            1 \n",
      " relay[C,BU]            1 \n"
     ]
    }
   ],
   "source": [
    "swimmers = [\"N\", \"M\", \"L\", \"A\", \"C\"]\n",
    "styles = [\"BA\",\"BR\",\"BU\",\"FR\"]\n",
    "times = {(\"N\",\"BA\"): 40.1, (\"N\",\"BR\"): 41.7, (\"N\",\"BU\"): 41.1, (\"N\",\"FR\"): 33.3,\n",
    "         (\"M\",\"BA\"): 39.6, (\"M\",\"BR\"): 37.6, (\"M\",\"BU\"): 31.9, (\"M\",\"FR\"): 31.2,\n",
    "         (\"L\",\"BA\"): 35.3, (\"L\",\"BR\"): 37.9, (\"L\",\"BU\"): 36.2, (\"L\",\"FR\"): 33.1,\n",
    "         (\"A\",\"BA\"): 30.6, (\"A\",\"BR\"): 34.1, (\"A\",\"BU\"): 33.3, (\"A\",\"FR\"): 29.1,\n",
    "         (\"C\",\"BA\"): 36.9, (\"C\",\"BR\"): 37.2, (\"C\",\"BU\"): 29.0, (\"C\",\"FR\"): 31.6}\n",
    "\n",
    "model = gp.Model()\n",
    "s = model.addVars(times, vtype = gp.GRB.BINARY, name = \"relay\",obj = times)\n",
    "#the objective for minimization not defined because it's the default\n",
    "#there have to be 4 swimmers, one for each style and the swimmers can't repeat in a relay\n",
    "model.addConstrs(gp.quicksum(s[i,j] for i in swimmers) == 1 for j in styles)\n",
    "model.addConstrs(gp.quicksum(s[i,j] for j in styles) <= 1 for i in swimmers)\n",
    "#optimizing the model\n",
    "model.optimize()\n",
    "model.printAttr(\"X\")"
   ]
  },
  {
   "cell_type": "markdown",
   "id": "60498e32",
   "metadata": {},
   "source": [
    "Solving the problem in Gurobi tells us the following solution: have Carol do the butterfly stroke, Asma do the backstroke, Lina do the breaststroke and Mary do the freestyle. Under this solution, it would take the team 128.7 seconds to finish the relay. "
   ]
  },
  {
   "cell_type": "markdown",
   "id": "0c4709b1",
   "metadata": {},
   "source": [
    "# Question 2"
   ]
  },
  {
   "cell_type": "markdown",
   "id": "a82ab38f",
   "metadata": {},
   "source": [
    "## Part A"
   ]
  },
  {
   "cell_type": "code",
   "execution_count": 107,
   "id": "2c431db7",
   "metadata": {},
   "outputs": [
    {
     "data": {
      "text/plain": [
       "<AxesSubplot:>"
      ]
     },
     "execution_count": 107,
     "metadata": {},
     "output_type": "execute_result"
    },
    {
     "data": {
      "image/png": "[encoded data removed]",
      "text/plain": [
       "<Figure size 432x288 with 1 Axes>"
      ]
     },
     "metadata": {
      "needs_background": "light"
     },
     "output_type": "display_data"
    }
   ],
   "source": [
    "seats = 100\n",
    "price1 = 150\n",
    "price2 = 500\n",
    "alpha = range(20,81)\n",
    "n = 10000\n",
    "expRevenues2 = []\n",
    "\n",
    "for limit in alpha:\n",
    "    #generate customers period 1\n",
    "    customers1 = np.random.poisson(lam = 75, size = n)\n",
    "    #sales based on booking limit\n",
    "    p1sales = np.minimum(customers1,limit)\n",
    "    #capacity\n",
    "    remCap = 100 - p1sales\n",
    "    #generate customers period 2\n",
    "    customers2 = np.random.poisson(lam = 50, size = n)\n",
    "    #sales based on capacity\n",
    "    p2sales = np.minimum(customers2, remCap)\n",
    "    #average the revenue across the 10k sims\n",
    "    exprevenue = np.average(150*p1sales + 500*p2sales)\n",
    "    #store our revenues for each booking limit\n",
    "    expRevenues2.append(exprevenue)\n",
    "\n",
    "sn.lineplot(alpha, expRevenues2)"
   ]
  },
  {
   "cell_type": "code",
   "execution_count": 119,
   "id": "4cf625c9",
   "metadata": {},
   "outputs": [
    {
     "data": {
      "text/html": [
       "<div>\n",
       "<style scoped>\n",
       "    .dataframe tbody tr th:only-of-type {\n",
       "        vertical-align: middle;\n",
       "    }\n",
       "\n",
       "    .dataframe tbody tr th {\n",
       "        vertical-align: top;\n",
       "    }\n",
       "\n",
       "    .dataframe thead th {\n",
       "        text-align: right;\n",
       "    }\n",
       "</style>\n",
       "<table border=\"1\" class=\"dataframe\">\n",
       "  <thead>\n",
       "    <tr style=\"text-align: right;\">\n",
       "      <th></th>\n",
       "      <th>Booking Limit</th>\n",
       "      <th>Expected Revenue</th>\n",
       "    </tr>\n",
       "  </thead>\n",
       "  <tbody>\n",
       "    <tr>\n",
       "      <th>27</th>\n",
       "      <td>47</td>\n",
       "      <td>31268.89</td>\n",
       "    </tr>\n",
       "  </tbody>\n",
       "</table>\n",
       "</div>"
      ],
      "text/plain": [
       "    Booking Limit  Expected Revenue\n",
       "27             47          31268.89"
      ]
     },
     "execution_count": 119,
     "metadata": {},
     "output_type": "execute_result"
    }
   ],
   "source": [
    "limit_table = pd.DataFrame(\n",
    "    {'Booking Limit': alpha,\n",
    "     'Expected Revenue': expRevenues2\n",
    "    })    \n",
    "limit_tablelimit_table[\"Expected Revenue\"]==max(limit_table[\"Expected Revenue\"])"
   ]
  },
  {
   "cell_type": "code",
   "execution_count": 120,
   "id": "5dc758fb",
   "metadata": {},
   "outputs": [
    {
     "data": {
      "text/plain": [
       "31268.89"
      ]
     },
     "execution_count": 120,
     "metadata": {},
     "output_type": "execute_result"
    }
   ],
   "source": [
    "max(expRevenues2)"
   ]
  },
  {
   "cell_type": "markdown",
   "id": "26499c5c",
   "metadata": {},
   "source": [
    "As we can see from the plot, in this particular simulation, the highest expected revenue comes from setting the booking limit at 47 for the first period. The optimal revenue here would be $31268.89."
   ]
  },
  {
   "cell_type": "markdown",
   "id": "94207bcc",
   "metadata": {},
   "source": [
    "## Part B"
   ]
  },
  {
   "cell_type": "code",
   "execution_count": 133,
   "id": "94b3c0d2",
   "metadata": {},
   "outputs": [],
   "source": [
    "seats = 100\n",
    "price1 = 150\n",
    "price2 = 500\n",
    "alpha = range(20,81)\n",
    "#adding possible range of p\n",
    "p = range(150,301)\n",
    "n = 10000\n",
    "expRevenues = []\n",
    "bestChoice = []\n",
    "\n",
    "\n",
    "for limit in alpha:\n",
    "    for refund in p:\n",
    "        customers1 = np.random.poisson(lam = 75, size = n)\n",
    "        p1sales = np.minimum(customers1,limit)\n",
    "        #probability of refund\n",
    "        probRefund = (refund-150)/200 \n",
    "        #number of refundable tickets\n",
    "        refTickets = np.random.binomial(p1sales, probRefund) \n",
    "        remCap = 100 - p1sales\n",
    "        #remaining cap including refundables\n",
    "        remCapRef = remCap + refTickets\n",
    "        customers2 = np.random.poisson(lam = 50, size = n)\n",
    "        #sales can now go up to including refunds\n",
    "        p2sales = np.minimum(customers2, remCapRef)\n",
    "        #tickets that are refunded - can't be negative\n",
    "        refunded = np.maximum(p2sales-remCap, 0)\n",
    "        exprevenue = np.average(150*p1sales + 500*p2sales - refund*refunded)\n",
    "        expRevenues.append(exprevenue)\n",
    "    #for each limit we automatically store maximized revenue (best p)\n",
    "    bestoption = max(expRevenues) \n",
    "    bestChoice.append(bestoption)\n",
    "    #clear the expected revenues list (for each limit we want a fresh one)\n",
    "    expRevenues = []\n",
    "    \n",
    "bestChoice"
   ]
  },
  {
   "cell_type": "code",
   "execution_count": 137,
   "id": "f204b6eb",
   "metadata": {},
   "outputs": [
    {
     "data": {
      "text/plain": [
       "<AxesSubplot:xlabel='Booking Limit'>"
      ]
     },
     "execution_count": 137,
     "metadata": {},
     "output_type": "execute_result"
    },
    {
     "data": {
      "image/png": "[encoded data removed]",
      "text/plain": [
       "<Figure size 432x288 with 1 Axes>"
      ]
     },
     "metadata": {
      "needs_background": "light"
     },
     "output_type": "display_data"
    }
   ],
   "source": [
    "limit_table2 = pd.DataFrame(\n",
    "    {'Booking Limit': alpha,\n",
    "     'No Refund Option': expRevenues2,\n",
    "     'Refund Option': bestChoice\n",
    "    })    \n",
    "dfAir= limit_table2.set_index([\"Booking Limit\"])\n",
    "sn.lineplot(data = dfAir)"
   ]
  },
  {
   "cell_type": "code",
   "execution_count": 138,
   "id": "684f55f4",
   "metadata": {},
   "outputs": [
    {
     "data": {
      "text/html": [
       "<div>\n",
       "<style scoped>\n",
       "    .dataframe tbody tr th:only-of-type {\n",
       "        vertical-align: middle;\n",
       "    }\n",
       "\n",
       "    .dataframe tbody tr th {\n",
       "        vertical-align: top;\n",
       "    }\n",
       "\n",
       "    .dataframe thead th {\n",
       "        text-align: right;\n",
       "    }\n",
       "</style>\n",
       "<table border=\"1\" class=\"dataframe\">\n",
       "  <thead>\n",
       "    <tr style=\"text-align: right;\">\n",
       "      <th></th>\n",
       "      <th>No Refund Option</th>\n",
       "      <th>Refund Option</th>\n",
       "    </tr>\n",
       "    <tr>\n",
       "      <th>Booking Limit</th>\n",
       "      <th></th>\n",
       "      <th></th>\n",
       "    </tr>\n",
       "  </thead>\n",
       "  <tbody>\n",
       "    <tr>\n",
       "      <th>54</th>\n",
       "      <td>30498.885</td>\n",
       "      <td>31986.945</td>\n",
       "    </tr>\n",
       "  </tbody>\n",
       "</table>\n",
       "</div>"
      ],
      "text/plain": [
       "               No Refund Option  Refund Option\n",
       "Booking Limit                                 \n",
       "54                    30498.885      31986.945"
      ]
     },
     "execution_count": 138,
     "metadata": {},
     "output_type": "execute_result"
    }
   ],
   "source": [
    "dfAir.loc[dfAir[\"Refund Option\"]==max(dfAir[\"Refund Option\"])]"
   ]
  },
  {
   "cell_type": "code",
   "execution_count": 139,
   "id": "fc36664d",
   "metadata": {},
   "outputs": [
    {
     "data": {
      "text/plain": [
       "1970.5955163934414"
      ]
     },
     "execution_count": 139,
     "metadata": {},
     "output_type": "execute_result"
    }
   ],
   "source": [
    "np.average(dfAir[\"Refund Option\"]) - np.average(dfAir[\"No Refund Option\"])"
   ]
  },
  {
   "cell_type": "code",
   "execution_count": 140,
   "id": "66922dcf",
   "metadata": {},
   "outputs": [
    {
     "data": {
      "text/plain": [
       "718.0550000000003"
      ]
     },
     "execution_count": 140,
     "metadata": {},
     "output_type": "execute_result"
    }
   ],
   "source": [
    "max(dfAir[\"Refund Option\"]) - max(dfAir[\"No Refund Option\"])"
   ]
  },
  {
   "cell_type": "markdown",
   "id": "82d49cbc",
   "metadata": {},
   "source": [
    "The optimal revenue (assuming we always choose the optimal refund level) is \\\\$31,986.945. Based on the optimal revenues for both schemes, the value of the callable products scheme is \\\\$718.06. If we were to look at the average value of both schemes, then the value of the callable products is $1,970.6. The optimal booking limit with the callable products scheme is considerably higher at 54, compared to the 47 of the scheme without these products. As we can also see from the graph, the callable products scheme offsets the decrease in revenues caused by a higher booking limit, while keeping the same performance as the No Refund Option for lower booking limits. It is, therefore, highly recommended that the airline adopts this scheme. "
   ]
  },
  {
   "cell_type": "markdown",
   "id": "41160faa",
   "metadata": {},
   "source": [
    "# Question 3"
   ]
  },
  {
   "cell_type": "markdown",
   "id": "686ae5c6",
   "metadata": {},
   "source": [
    "## Part A"
   ]
  },
  {
   "cell_type": "code",
   "execution_count": 223,
   "id": "de130ba1",
   "metadata": {},
   "outputs": [
    {
     "name": "stdout",
     "output_type": "stream",
     "text": [
      "Gurobi Optimizer version 9.5.2 build v9.5.2rc0 (win64)\n",
      "Thread count: 4 physical cores, 8 logical processors, using up to 8 threads\n",
      "Optimize a model with 18 rows, 26 columns and 54 nonzeros\n",
      "Model fingerprint: 0xc2e6b0bc\n",
      "Coefficient statistics:\n",
      "  Matrix range     [1e+00, 1e+00]\n",
      "  Objective range  [3e+00, 1e+01]\n",
      "  Bounds range     [0e+00, 0e+00]\n",
      "  RHS range        [1e+03, 8e+03]\n",
      "Presolve time: 0.01s\n",
      "Presolved: 18 rows, 26 columns, 54 nonzeros\n",
      "\n",
      "Iteration    Objective       Primal Inf.    Dual Inf.      Time\n",
      "       0    1.4470000e+32   4.800000e+31   1.447000e+02      0s\n",
      "      22    1.0499900e+05   0.000000e+00   0.000000e+00      0s\n",
      "\n",
      "Solved in 22 iterations and 0.01 seconds (0.00 work units)\n",
      "Optimal objective  1.049990000e+05\n",
      "\n",
      "    Variable            X \n",
      "-------------------------\n",
      "       PF[A]         6700 \n",
      "       PF[B]        10000 \n",
      "    S[a,A,1]         5000 \n",
      "    S[a,A,2]          800 \n",
      "    S[a,A,4]          900 \n",
      "    S[a,B,2]         2200 \n",
      "    S[a,B,3]         7800 \n",
      "    S[b,A,1]         3000 \n",
      "    S[b,B,2]         1000 \n",
      "    S[b,B,3]         6000 \n",
      "    S[b,B,4]         3000 \n",
      "    S[c,A,1]         4200 \n",
      "    S[c,A,4]         2500 \n",
      "    S[c,B,2]         4100 \n",
      "    S[c,B,3]         3000 \n",
      "    S[c,B,4]         2900 \n"
     ]
    }
   ],
   "source": [
    "productionCost = {\"A\": -11,\"B\":-11.5}\n",
    "profit = {(\"A\",1): 18.5, (\"A\",2):18, (\"A\",3):18, (\"A\",4):17,\n",
    "        (\"B\",1): 18, (\"B\",2):18.8, (\"B\",3):18.9, (\"B\",4):17.5}\n",
    "demands = {(\"a\",1): 5000, (\"a\",2): 3000, (\"a\",3): 7800, (\"a\",4): 4000,\n",
    "          (\"b\",1): 3000, (\"b\",2): 1000, (\"b\",3): 6000, (\"b\",4): 3000,\n",
    "          (\"c\",1): 4200, (\"c\",2): 4100, (\"c\",3): 3000, (\"c\",4): 5400}\n",
    "warehouses = [\"A\",\"B\"]\n",
    "distributionCenters = [1,2,3,4]\n",
    "Scenarios = [\"a\",\"b\",\"c\"]\n",
    "ScenarioProbs={\"a\": 0.3, \"b\": 0.2, \"c\": 0.5}\n",
    "\n",
    "model = gp.Model()\n",
    "#first stage variables\n",
    "production = model.addVars(warehouses, name = \"PF\")\n",
    "#second stage variables\n",
    "shipping = model.addVars(Scenarios, warehouses, \n",
    "                         distributionCenters, name = \"S\")\n",
    "\n",
    "#objective function\n",
    "obj = gp.LinExpr()\n",
    "obj+= gp.quicksum(productionCost[w]*production[w] \n",
    "                  for w in warehouses)\n",
    "obj+= gp.quicksum(ScenarioProbs[s]*profit[(w,dc)]*shipping[(s,w,dc)] \n",
    "                  for s in Scenarios for dc in distributionCenters \n",
    "                  for w in warehouses)\n",
    "model.setObjective(obj, gp.GRB.MAXIMIZE)\n",
    "\n",
    "#second stage constraints (all of them)\n",
    "#you can't transport more than you produce for each warehouse\n",
    "model.addConstrs(gp.quicksum(shipping[(s,w,dc)] \n",
    "                             for dc in distributionCenters)<= \n",
    "                 production[w] for s in Scenarios for w in warehouses)\n",
    "#what you ship shouldn't be higher than the demand\n",
    "model.addConstrs(gp.quicksum(shipping[(s,w,dc)] \n",
    "                             for w in warehouses) <= demands[(s,dc)] \n",
    "                 for dc in distributionCenters for s in Scenarios)\n",
    "\n",
    "model.optimize()\n",
    "model.printAttr(\"X\")\n"
   ]
  },
  {
   "cell_type": "markdown",
   "id": "615dc7f9",
   "metadata": {},
   "source": [
    "Based on our model solution, we should send 6700 products to warehouse A and 10000 products to warehouse B. The expected profit of this solution is $104,999. "
   ]
  },
  {
   "cell_type": "markdown",
   "id": "3e1e6f36",
   "metadata": {},
   "source": [
    "## Part B(2)"
   ]
  },
  {
   "cell_type": "code",
   "execution_count": 211,
   "id": "b6fa388a",
   "metadata": {},
   "outputs": [],
   "source": [
    "dfdemand = pd.read_csv('demand.csv')\n",
    "dfTC = pd.read_csv('TranportationCosts.csv')"
   ]
  },
  {
   "cell_type": "code",
   "execution_count": null,
   "id": "3e3f28b3",
   "metadata": {},
   "outputs": [],
   "source": [
    "#we transform the warehouse and distribution center columns to index columns\n",
    "#this allows to easily access the data using the W/DC name\n",
    "dfTCindex = dfTC.set_index([\"Warehouse\"])\n",
    "dfdemandIX = dfdemand.set_index([\"DistributionCenter\"])\n",
    "#PF cost we take from the TC dataframe\n",
    "#transp. cost we take from the TC dataframe\n",
    "#demands we take from the demand dataframe\n",
    "warehouses = dfTC[\"Warehouse\"]\n",
    "distributionCenters = dfdemand[\"DistributionCenter\"]\n",
    "Scenarios = list(dfdemandIX.columns)\n",
    "ScenarioProbs = 0.01\n",
    "fixedCost = -100000\n",
    "profit = 20\n",
    "prodCost = -10\n",
    "\n",
    "\n",
    "model = gp.Model()\n",
    "#first stage variables\n",
    "production = model.addVars(warehouses, name = \"PF\")\n",
    "nwarehouses = model.addVars(warehouses, vtype = gp.GRB.BINARY, name = \"I\")\n",
    "#second stage variables\n",
    "shipping = model.addVars(Scenarios, warehouses, distributionCenters, name = \"S\")\n",
    "\n",
    "#objective function\n",
    "obj = gp.LinExpr()\n",
    "obj+= gp.quicksum(fixedCost*nwarehouses[w] for w in warehouses)\n",
    "obj+= gp.quicksum((prodCost-dfTCindex.loc[w,\"PFacility\"])*production[w] \n",
    "                  for w in warehouses) \n",
    "obj+= gp.quicksum(ScenarioProbs*(profit-dfTCindex.loc[w,dc])*shipping[(s,w,dc)]\n",
    "                  for s in Scenarios \n",
    "                  for dc in distributionCenters \n",
    "                  for w in warehouses)\n",
    "model.setObjective(obj, gp.GRB.MAXIMIZE)\n",
    "\n",
    "#second stage constraints (all of them)\n",
    "#you can't transport more than you produce for each warehouse\n",
    "model.addConstrs(gp.quicksum(shipping[(s,w,dc)] \n",
    "                             for dc in distributionCenters)<= production[w] \n",
    "                 for s in Scenarios for w in warehouses)\n",
    "#should be lower than demand\n",
    "model.addConstrs(gp.quicksum(shipping[(s,w,dc)] \n",
    "                             for w in warehouses) <= dfdemandIX.loc[dc,s] \n",
    "                 for dc in distributionCenters for s in Scenarios)\n",
    "#indicator constraint\n",
    "model.addConstrs(production[w] == production[w]*nwarehouses[w] \n",
    "                 for w in warehouses)\n",
    "\n",
    "model.optimize()"
   ]
  },
  {
   "cell_type": "code",
   "execution_count": 221,
   "id": "a9784e9c",
   "metadata": {},
   "outputs": [
    {
     "data": {
      "text/plain": [
       "2124910.455000004"
      ]
     },
     "execution_count": 221,
     "metadata": {},
     "output_type": "execute_result"
    }
   ],
   "source": [
    "model.getAttr(\"ObjVal\")\n",
    "#model.printAttr(\"X\")"
   ]
  },
  {
   "cell_type": "markdown",
   "id": "4fd9ff4b",
   "metadata": {},
   "source": [
    "The adjusted model concludes that the fixed cost for each warehouse is so high that it only recommends using one warehouse in Stuttgart and subsequently send all the products from this warehouse to the different distribution centers. We produce and send 278,441 products to this single warehouse. The expected profit is $2,124,910.455. "
   ]
  },
  {
   "cell_type": "code",
   "execution_count": null,
   "id": "04c13354",
   "metadata": {},
   "outputs": [],
   "source": [
    "#we create a new object to calculate the profit per scenario\n",
    "array_shipping  = model.getAttr('X', shipping)\n",
    "array_shipping"
   ]
  },
  {
   "cell_type": "code",
   "execution_count": null,
   "id": "513a7714",
   "metadata": {},
   "outputs": [],
   "source": [
    "scenarioprofit = 0\n",
    "TotalProfit = {}\n",
    "\n",
    "#run through all scenarios\n",
    "for s in Scenarios:\n",
    "    #for w in warehouses:\n",
    "    #here only Stuttgart is the warehouse \n",
    "    #for each DC combination calculate profit\n",
    "    for dc in distributionCenters:\n",
    "        #add the profit for that scenario\n",
    "        scenarioprofit+=array_shipping[s,\"WH-Stuttgart\",dc]*\\\n",
    "        (20-dfTCindex.loc[\"WH-Stuttgart\",dc])\n",
    "    #add the fixed cost and the PF cost\n",
    "    finalprofit = scenarioprofit - 100000 + \\\n",
    "    (prodCost-dfTCindex.loc[\"WH-Stuttgart\",\"PFacility\"])*278441\n",
    "    #store the scenario profit in a dictionary\n",
    "    TotalProfit[s] = finalprofit\n",
    "    scenarioprofit = 0\n",
    "\n",
    "TotalProfit"
   ]
  },
  {
   "cell_type": "code",
   "execution_count": 205,
   "id": "0320e4d5",
   "metadata": {},
   "outputs": [
    {
     "data": {
      "text/plain": [
       "<AxesSubplot:>"
      ]
     },
     "execution_count": 205,
     "metadata": {},
     "output_type": "execute_result"
    },
    {
     "data": {
      "image/png": "[encoded data removed]",
      "text/plain": [
       "<Figure size 1440x720 with 1 Axes>"
      ]
     },
     "metadata": {},
     "output_type": "display_data"
    }
   ],
   "source": [
    "#these are just preparations to be able to create a chart\n",
    "keys = list(TotalProfit.keys())\n",
    "values = list(TotalProfit.values())\n",
    "sn.set(rc={'figure.figsize':(20,10)})\n",
    "chart = sn.barplot(x = keys, y = values, color = 'b', edgecolor = 'w')\n",
    "chart.set_xticklabels(chart.get_xticklabels(), rotation=90)\n",
    "chart"
   ]
  },
  {
   "cell_type": "code",
   "execution_count": 213,
   "id": "42157746",
   "metadata": {},
   "outputs": [
    {
     "data": {
      "text/plain": [
       "1601924.15"
      ]
     },
     "execution_count": 213,
     "metadata": {},
     "output_type": "execute_result"
    }
   ],
   "source": [
    "min(values)"
   ]
  },
  {
   "cell_type": "markdown",
   "id": "d59a34e6",
   "metadata": {},
   "source": [
    "The worst case profit among all scenarios is $1,601,924.15, which happens under scenario 56. "
   ]
  }
 ],
 "metadata": {
  "kernelspec": {
   "display_name": "Python 3 (ipykernel)",
   "language": "python",
   "name": "python3"
  },
  "language_info": {
   "codemirror_mode": {
    "name": "ipython",
    "version": 3
   },
   "file_extension": ".py",
   "mimetype": "text/x-python",
   "name": "python",
   "nbconvert_exporter": "python",
   "pygments_lexer": "ipython3",
   "version": "3.9.12"
  }
 },
 "nbformat": 4,
 "nbformat_minor": 5
}
